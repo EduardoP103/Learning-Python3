{
 "cells": [
  {
   "cell_type": "markdown",
   "id": "a07e3298",
   "metadata": {},
   "source": [
    "<font color=Green>\n",
    "    \n",
    "# **2.2 Números**\n",
    "\n",
    "</font>\n",
    "\n",
    "###  Podemos asignarle valores numéricos a las variables. Python tiene 4 tipos de variables para almacenarlos."
   ]
  },
  {
   "cell_type": "code",
   "execution_count": 1,
   "id": "91e6d5d6",
   "metadata": {},
   "outputs": [
    {
     "data": {
      "text/plain": [
       "3"
      ]
     },
     "execution_count": 1,
     "metadata": {},
     "output_type": "execute_result"
    }
   ],
   "source": [
    "1 + 2"
   ]
  },
  {
   "cell_type": "code",
   "execution_count": 2,
   "id": "a52b6af8",
   "metadata": {},
   "outputs": [
    {
     "data": {
      "text/plain": [
       "10"
      ]
     },
     "execution_count": 2,
     "metadata": {},
     "output_type": "execute_result"
    }
   ],
   "source": [
    "2 * 5"
   ]
  },
  {
   "cell_type": "markdown",
   "id": "f0a311b4",
   "metadata": {},
   "source": [
    "<font color=#003d5c> \n",
    "    \n",
    "## _A) INT_ \n",
    "</font>\n",
    "Para números enteros"
   ]
  },
  {
   "cell_type": "code",
   "execution_count": 3,
   "id": "db470661",
   "metadata": {},
   "outputs": [],
   "source": [
    "x = 3"
   ]
  },
  {
   "cell_type": "code",
   "execution_count": 4,
   "id": "633eb764",
   "metadata": {},
   "outputs": [
    {
     "data": {
      "text/plain": [
       "3"
      ]
     },
     "execution_count": 4,
     "metadata": {},
     "output_type": "execute_result"
    }
   ],
   "source": [
    "x"
   ]
  },
  {
   "cell_type": "code",
   "execution_count": 6,
   "id": "633bf19a",
   "metadata": {},
   "outputs": [
    {
     "data": {
      "text/plain": [
       "11"
      ]
     },
     "execution_count": 6,
     "metadata": {},
     "output_type": "execute_result"
    }
   ],
   "source": [
    "x + x.__add__(5)"
   ]
  },
  {
   "cell_type": "code",
   "execution_count": 7,
   "id": "e6fa43ab",
   "metadata": {},
   "outputs": [],
   "source": [
    "x2 = x.__add__(60)"
   ]
  },
  {
   "cell_type": "code",
   "execution_count": 8,
   "id": "4901805f",
   "metadata": {},
   "outputs": [
    {
     "data": {
      "text/plain": [
       "63"
      ]
     },
     "execution_count": 8,
     "metadata": {},
     "output_type": "execute_result"
    }
   ],
   "source": [
    "x2"
   ]
  },
  {
   "cell_type": "markdown",
   "id": "04b6f9f8",
   "metadata": {},
   "source": [
    "## <font color=#003d5c> \n",
    "\n",
    "## _B) FLOAT_ </font>\n",
    "Para números decimales"
   ]
  },
  {
   "cell_type": "code",
   "execution_count": 9,
   "id": "ce0e10a6",
   "metadata": {},
   "outputs": [],
   "source": [
    "y = 4.5"
   ]
  },
  {
   "cell_type": "code",
   "execution_count": 10,
   "id": "f6b77fa3",
   "metadata": {},
   "outputs": [
    {
     "data": {
      "text/plain": [
       "4.5"
      ]
     },
     "execution_count": 10,
     "metadata": {},
     "output_type": "execute_result"
    }
   ],
   "source": [
    "y"
   ]
  },
  {
   "cell_type": "code",
   "execution_count": 11,
   "id": "e20fa415",
   "metadata": {},
   "outputs": [
    {
     "data": {
      "text/plain": [
       "float"
      ]
     },
     "execution_count": 11,
     "metadata": {},
     "output_type": "execute_result"
    }
   ],
   "source": [
    "type(y)"
   ]
  },
  {
   "cell_type": "code",
   "execution_count": 12,
   "id": "bdda2a68",
   "metadata": {},
   "outputs": [
    {
     "data": {
      "text/plain": [
       "int"
      ]
     },
     "execution_count": 12,
     "metadata": {},
     "output_type": "execute_result"
    }
   ],
   "source": [
    "type(x)"
   ]
  },
  {
   "cell_type": "markdown",
   "id": "b32d4541",
   "metadata": {},
   "source": [
    "<font color=#003d5c> \n",
    "    \n",
    "## _C) COMPLEX_ </font>\n",
    "Para números complejos, o sea, de la forma (A + Bj) donde la unidad imaginaria está representada por j."
   ]
  },
  {
   "cell_type": "code",
   "execution_count": 13,
   "id": "d6eb9592",
   "metadata": {},
   "outputs": [],
   "source": [
    "c = 1+2j;"
   ]
  },
  {
   "cell_type": "code",
   "execution_count": 14,
   "id": "2dc43bb3",
   "metadata": {},
   "outputs": [
    {
     "data": {
      "text/plain": [
       "(1+2j)"
      ]
     },
     "execution_count": 14,
     "metadata": {},
     "output_type": "execute_result"
    }
   ],
   "source": [
    "c"
   ]
  },
  {
   "cell_type": "code",
   "execution_count": 15,
   "id": "c8043152",
   "metadata": {},
   "outputs": [
    {
     "data": {
      "text/plain": [
       "((1+2j), complex)"
      ]
     },
     "execution_count": 15,
     "metadata": {},
     "output_type": "execute_result"
    }
   ],
   "source": [
    "c, type(c)"
   ]
  },
  {
   "cell_type": "code",
   "execution_count": 16,
   "id": "c4330c2a",
   "metadata": {},
   "outputs": [],
   "source": [
    "parte_real = c.real\n",
    "parte_imaginaria = c.imag"
   ]
  },
  {
   "cell_type": "code",
   "execution_count": 18,
   "id": "616f5a45",
   "metadata": {},
   "outputs": [
    {
     "data": {
      "text/plain": [
       "(1.0, 2.0)"
      ]
     },
     "execution_count": 18,
     "metadata": {},
     "output_type": "execute_result"
    }
   ],
   "source": [
    "parte_real, parte_imaginaria"
   ]
  },
  {
   "cell_type": "code",
   "execution_count": null,
   "id": "79430050",
   "metadata": {},
   "outputs": [],
   "source": []
  }
 ],
 "metadata": {
  "kernelspec": {
   "display_name": "Python 3 (ipykernel)",
   "language": "python",
   "name": "python3"
  },
  "language_info": {
   "codemirror_mode": {
    "name": "ipython",
    "version": 3
   },
   "file_extension": ".py",
   "mimetype": "text/x-python",
   "name": "python",
   "nbconvert_exporter": "python",
   "pygments_lexer": "ipython3",
   "version": "3.9.12"
  }
 },
 "nbformat": 4,
 "nbformat_minor": 5
}
