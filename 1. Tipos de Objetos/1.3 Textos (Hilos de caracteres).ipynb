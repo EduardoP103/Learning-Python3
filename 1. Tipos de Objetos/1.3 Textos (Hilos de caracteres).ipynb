{
 "cells": [
  {
   "cell_type": "markdown",
   "id": "9d4b1730",
   "metadata": {},
   "source": [
    "<font color=Green>\n",
    "    \n",
    "# **2.3 Textos o Hilos de caracteres**\n",
    "\n",
    "</font>\n",
    "\n",
    "### Consisten en secuencias de caracteres dentro de comillas. En Python las variables _strings_ se pueden declarar indistintamente usando comillas simples(\") o dobles (\"\")"
   ]
  },
  {
   "cell_type": "code",
   "execution_count": 1,
   "id": "afc6e383",
   "metadata": {},
   "outputs": [
    {
     "data": {
      "text/plain": [
       "'Esto es un texto o hilo'"
      ]
     },
     "execution_count": 1,
     "metadata": {},
     "output_type": "execute_result"
    }
   ],
   "source": [
    "\"Esto es un texto o hilo\""
   ]
  },
  {
   "cell_type": "code",
   "execution_count": 2,
   "id": "bc880b85",
   "metadata": {},
   "outputs": [
    {
     "data": {
      "text/plain": [
       "'Este texto es uno distinto'"
      ]
     },
     "execution_count": 2,
     "metadata": {},
     "output_type": "execute_result"
    }
   ],
   "source": [
    "'Este texto es uno distinto'"
   ]
  },
  {
   "cell_type": "code",
   "execution_count": 9,
   "id": "e2db4912",
   "metadata": {},
   "outputs": [],
   "source": [
    "nombre = \"Eduardo\"\n",
    "\n",
    "carrera = \"Software Designer and Programmer\"\n"
   ]
  },
  {
   "cell_type": "code",
   "execution_count": 10,
   "id": "011ca0b4",
   "metadata": {},
   "outputs": [
    {
     "data": {
      "text/plain": [
       "str"
      ]
     },
     "execution_count": 10,
     "metadata": {},
     "output_type": "execute_result"
    }
   ],
   "source": [
    "type(nombre)"
   ]
  },
  {
   "cell_type": "code",
   "execution_count": 11,
   "id": "aaf4aa1f",
   "metadata": {},
   "outputs": [
    {
     "data": {
      "text/plain": [
       "'Software Designer and Programmer'"
      ]
     },
     "execution_count": 11,
     "metadata": {},
     "output_type": "execute_result"
    }
   ],
   "source": [
    "nombre\n",
    "carrera"
   ]
  },
  {
   "cell_type": "code",
   "execution_count": 12,
   "id": "5c0faaae",
   "metadata": {},
   "outputs": [
    {
     "name": "stdout",
     "output_type": "stream",
     "text": [
      "Eduardo\n",
      "Software Designer and Programmer\n"
     ]
    }
   ],
   "source": [
    "print(nombre)\n",
    "print(carrera)"
   ]
  },
  {
   "cell_type": "markdown",
   "id": "bd1512f3",
   "metadata": {},
   "source": [
    "<font color=#003d5c> \n",
    "    \n",
    "## _print()_ \n",
    "</font>\n",
    "\n",
    "### Esta función nos permite mostrar por pantalla un texto y editar su presentación con tabulaciones y saltos de línea."
   ]
  },
  {
   "cell_type": "code",
   "execution_count": 18,
   "id": "4d2a12c3",
   "metadata": {},
   "outputs": [
    {
     "name": "stdout",
     "output_type": "stream",
     "text": [
      "Una cadena \tseparada por una tabulación\n"
     ]
    }
   ],
   "source": [
    "print(\"Una cadena \\tseparada por una tabulación\")"
   ]
  },
  {
   "cell_type": "code",
   "execution_count": 17,
   "id": "801f8ef3",
   "metadata": {},
   "outputs": [
    {
     "name": "stdout",
     "output_type": "stream",
     "text": [
      "Una cadena en una línea \n",
      " Una cadena en otra línea\n"
     ]
    }
   ],
   "source": [
    "print(\"Una cadena en una línea \\n Una cadena en otra línea\")"
   ]
  },
  {
   "cell_type": "markdown",
   "id": "9f383baf",
   "metadata": {},
   "source": [
    "###  Para que la función print nos muestre una cadena sin procesar debemos indicarle que la cadena es de tipo crudo, agregando la letra _r_ antes de abrir comillas"
   ]
  },
  {
   "cell_type": "code",
   "execution_count": 19,
   "id": "55d02b42",
   "metadata": {},
   "outputs": [
    {
     "name": "stdout",
     "output_type": "stream",
     "text": [
      "C:\n",
      "ombre\n",
      "ombre_2\n"
     ]
    }
   ],
   "source": [
    "print(\"C:\\nombre\\nombre_2\")"
   ]
  },
  {
   "cell_type": "code",
   "execution_count": 21,
   "id": "c0373b02",
   "metadata": {},
   "outputs": [
    {
     "name": "stdout",
     "output_type": "stream",
     "text": [
      "C:\\nombre\\nombre_2\n"
     ]
    }
   ],
   "source": [
    "print(r\"C:\\nombre\\nombre_2\")"
   ]
  },
  {
   "cell_type": "markdown",
   "id": "e2e0a55d",
   "metadata": {},
   "source": [
    "### También podemos indicarle que deseamos mostrar el texto en varias líneas de la siguiente forma"
   ]
  },
  {
   "cell_type": "code",
   "execution_count": 23,
   "id": "77592337",
   "metadata": {},
   "outputs": [
    {
     "name": "stdout",
     "output_type": "stream",
     "text": [
      "Línea 1 es esta\n",
      "y aqui tenemos la Línea 2\n",
      "y así...\n",
      "así...\n",
      "al infinito\n",
      "y más\n",
      "allá\n"
     ]
    }
   ],
   "source": [
    "print(\"\"\"Línea 1 es esta\n",
    "y aqui tenemos la Línea 2\n",
    "y así...\n",
    "así...\n",
    "al infinito\n",
    "y más\n",
    "allá\"\"\")"
   ]
  },
  {
   "cell_type": "code",
   "execution_count": null,
   "id": "c06478df",
   "metadata": {},
   "outputs": [],
   "source": []
  }
 ],
 "metadata": {
  "kernelspec": {
   "display_name": "Python 3 (ipykernel)",
   "language": "python",
   "name": "python3"
  },
  "language_info": {
   "codemirror_mode": {
    "name": "ipython",
    "version": 3
   },
   "file_extension": ".py",
   "mimetype": "text/x-python",
   "name": "python",
   "nbconvert_exporter": "python",
   "pygments_lexer": "ipython3",
   "version": "3.9.12"
  }
 },
 "nbformat": 4,
 "nbformat_minor": 5
}
