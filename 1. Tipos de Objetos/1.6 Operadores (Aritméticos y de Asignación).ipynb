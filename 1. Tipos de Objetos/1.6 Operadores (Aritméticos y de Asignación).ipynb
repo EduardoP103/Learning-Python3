{
 "cells": [
  {
   "cell_type": "markdown",
   "id": "ffa422b1",
   "metadata": {},
   "source": [
    "<font color=Green>\n",
    "    \n",
    "# **2.6 Operadores aritméticos**\n",
    "\n",
    "</font>\n",
    "\n",
    "### Los operadores aritméticos sirven prinicipalmente para los tipos de datos numéricos, si bien tienen algunas utilidades con otros tipos de datos comos listas o cadenas de caracteres."
   ]
  },
  {
   "cell_type": "markdown",
   "id": "bdea4c19",
   "metadata": {},
   "source": [
    "<font color=#003d5c>     \n",
    "    \n",
    "### A) Adición \n",
    "    \n",
    "</font>\n",
    "\n",
    "También para cadenas de caracteres, tuplas, y listas. Sigue la forma (a + b)"
   ]
  },
  {
   "cell_type": "code",
   "execution_count": 2,
   "id": "cfac8ec2",
   "metadata": {},
   "outputs": [
    {
     "data": {
      "text/plain": [
       "38.5"
      ]
     },
     "execution_count": 2,
     "metadata": {},
     "output_type": "execute_result"
    }
   ],
   "source": [
    "8 + 30.5"
   ]
  },
  {
   "cell_type": "code",
   "execution_count": 3,
   "id": "90ffea6f",
   "metadata": {},
   "outputs": [
    {
     "data": {
      "text/plain": [
       "14"
      ]
     },
     "execution_count": 3,
     "metadata": {},
     "output_type": "execute_result"
    }
   ],
   "source": [
    "7 + 7 "
   ]
  },
  {
   "cell_type": "code",
   "execution_count": 4,
   "id": "24c8a69d",
   "metadata": {},
   "outputs": [
    {
     "data": {
      "text/plain": [
       "'HolaCómo estás?'"
      ]
     },
     "execution_count": 4,
     "metadata": {},
     "output_type": "execute_result"
    }
   ],
   "source": [
    "'Hola' + 'Cómo estás?'"
   ]
  },
  {
   "cell_type": "markdown",
   "id": "8af685d5",
   "metadata": {},
   "source": [
    "<font color=#003d5c>\n",
    "\n",
    "### B) Sustracción\n",
    "\n",
    "</font>"
   ]
  },
  {
   "cell_type": "code",
   "execution_count": 5,
   "id": "585b1662",
   "metadata": {},
   "outputs": [
    {
     "data": {
      "text/plain": [
       "19"
      ]
     },
     "execution_count": 5,
     "metadata": {},
     "output_type": "execute_result"
    }
   ],
   "source": [
    "49 - 30 "
   ]
  },
  {
   "cell_type": "markdown",
   "id": "64630506",
   "metadata": {},
   "source": [
    "<font color=#003d5c>\n",
    "    \n",
    "### C) Multiplicación\n",
    "</font>\n",
    "\n",
    "\n",
    "También para cadenas de caracteres, tuplas y listas. Sigue la forma (a * b)"
   ]
  },
  {
   "cell_type": "code",
   "execution_count": 6,
   "id": "1a2cd379",
   "metadata": {},
   "outputs": [
    {
     "data": {
      "text/plain": [
       "180"
      ]
     },
     "execution_count": 6,
     "metadata": {},
     "output_type": "execute_result"
    }
   ],
   "source": [
    "30 * 6"
   ]
  },
  {
   "cell_type": "code",
   "execution_count": 7,
   "id": "6a200a8a",
   "metadata": {},
   "outputs": [
    {
     "data": {
      "text/plain": [
       "20.5"
      ]
     },
     "execution_count": 7,
     "metadata": {},
     "output_type": "execute_result"
    }
   ],
   "source": [
    "2.5 * 8.2"
   ]
  },
  {
   "cell_type": "code",
   "execution_count": 9,
   "id": "c9d3dc96",
   "metadata": {},
   "outputs": [
    {
     "data": {
      "text/plain": [
       "'JijijijaJijijija'"
      ]
     },
     "execution_count": 9,
     "metadata": {},
     "output_type": "execute_result"
    }
   ],
   "source": [
    "\"Jijijija\" * 2"
   ]
  },
  {
   "cell_type": "code",
   "execution_count": 11,
   "id": "7b71ed11",
   "metadata": {},
   "outputs": [
    {
     "data": {
      "text/plain": [
       "'JijijijaJijijija'"
      ]
     },
     "execution_count": 11,
     "metadata": {},
     "output_type": "execute_result"
    }
   ],
   "source": [
    "\"Jijijija\" + \"Jijijija\""
   ]
  },
  {
   "cell_type": "markdown",
   "id": "6f53c3ff",
   "metadata": {},
   "source": [
    "<font color=#003d5c>\n",
    "    \n",
    "### D) División\n",
    "</font>\n",
    "Sigue la forma (a / b)"
   ]
  },
  {
   "cell_type": "code",
   "execution_count": 12,
   "id": "1e721316",
   "metadata": {},
   "outputs": [
    {
     "data": {
      "text/plain": [
       "2.0"
      ]
     },
     "execution_count": 12,
     "metadata": {},
     "output_type": "execute_result"
    }
   ],
   "source": [
    "10 / 5"
   ]
  },
  {
   "cell_type": "markdown",
   "id": "7c76d42c",
   "metadata": {},
   "source": [
    "<font color=#003d5c>\n",
    "    \n",
    "### E) División entera truncada\n",
    "\n",
    "</font>\n",
    "Nos da como resultado un valor de tipo entero. Trunca(Redondeada hacia abajo) los valores decimales. Sigue la forma (a // b)"
   ]
  },
  {
   "cell_type": "code",
   "execution_count": 14,
   "id": "6aeb3e4f",
   "metadata": {},
   "outputs": [
    {
     "data": {
      "text/plain": [
       "2"
      ]
     },
     "execution_count": 14,
     "metadata": {},
     "output_type": "execute_result"
    }
   ],
   "source": [
    "10 // 5"
   ]
  },
  {
   "cell_type": "markdown",
   "id": "aad4b8e5",
   "metadata": {},
   "source": [
    "<font color=#003d5c>\n",
    "    \n",
    "### F) Módulo o residuo de la división\n",
    "</font>\n",
    "Sigue la forma (a % b)"
   ]
  },
  {
   "cell_type": "code",
   "execution_count": 16,
   "id": "e07d5eff",
   "metadata": {},
   "outputs": [
    {
     "name": "stdout",
     "output_type": "stream",
     "text": [
      "1\n"
     ]
    }
   ],
   "source": [
    "print(5 % 2)"
   ]
  },
  {
   "cell_type": "markdown",
   "id": "2eff75cb",
   "metadata": {},
   "source": [
    "<font color=#003d5c>\n",
    "    \n",
    "### G) Exponenciación\n",
    "</font>\n",
    "\n",
    "Sigue la forma (a ** b)\n"
   ]
  },
  {
   "cell_type": "code",
   "execution_count": 18,
   "id": "e458b757",
   "metadata": {},
   "outputs": [
    {
     "data": {
      "text/plain": [
       "1024"
      ]
     },
     "execution_count": 18,
     "metadata": {},
     "output_type": "execute_result"
    }
   ],
   "source": [
    "4 ** 5"
   ]
  },
  {
   "cell_type": "markdown",
   "id": "f32a55bd",
   "metadata": {},
   "source": [
    "<font color=#003d5c>     \n",
    "## Operadores de asignación\n",
    "</font>\n",
    "\n",
    "Los operadores de asignación nos facilitan escribir código. Estos son los siguientes\n",
    "> [ __= ; -= ; += ; /= ; * = ; %= ; //= ; ** =__ ]"
   ]
  },
  {
   "cell_type": "code",
   "execution_count": 24,
   "id": "ceae4492",
   "metadata": {},
   "outputs": [
    {
     "name": "stdout",
     "output_type": "stream",
     "text": [
      "10\n"
     ]
    }
   ],
   "source": [
    "edad = 10\n",
    "print(edad)"
   ]
  },
  {
   "cell_type": "code",
   "execution_count": 25,
   "id": "4b31b146",
   "metadata": {},
   "outputs": [
    {
     "name": "stdout",
     "output_type": "stream",
     "text": [
      "7\n"
     ]
    }
   ],
   "source": [
    "edad = edad - 3 \n",
    "print(edad)"
   ]
  },
  {
   "cell_type": "code",
   "execution_count": 26,
   "id": "73a90997",
   "metadata": {},
   "outputs": [
    {
     "name": "stdout",
     "output_type": "stream",
     "text": [
      "10\n"
     ]
    }
   ],
   "source": [
    "edad = 10\n",
    "print(edad)"
   ]
  },
  {
   "cell_type": "code",
   "execution_count": 27,
   "id": "67fa11d0",
   "metadata": {},
   "outputs": [
    {
     "name": "stdout",
     "output_type": "stream",
     "text": [
      "7\n"
     ]
    }
   ],
   "source": [
    "edad -= 3\n",
    "print(edad)"
   ]
  },
  {
   "cell_type": "code",
   "execution_count": 28,
   "id": "37b99435",
   "metadata": {},
   "outputs": [
    {
     "name": "stdout",
     "output_type": "stream",
     "text": [
      "17\n"
     ]
    }
   ],
   "source": [
    "edad += 10\n",
    "print(edad)"
   ]
  },
  {
   "cell_type": "code",
   "execution_count": 29,
   "id": "f2e64f72",
   "metadata": {},
   "outputs": [
    {
     "name": "stdout",
     "output_type": "stream",
     "text": [
      "3.4\n"
     ]
    }
   ],
   "source": [
    "edad /= 5\n",
    "print(edad)"
   ]
  },
  {
   "cell_type": "code",
   "execution_count": null,
   "id": "d71fc982",
   "metadata": {},
   "outputs": [],
   "source": []
  }
 ],
 "metadata": {
  "kernelspec": {
   "display_name": "Python 3 (ipykernel)",
   "language": "python",
   "name": "python3"
  },
  "language_info": {
   "codemirror_mode": {
    "name": "ipython",
    "version": 3
   },
   "file_extension": ".py",
   "mimetype": "text/x-python",
   "name": "python",
   "nbconvert_exporter": "python",
   "pygments_lexer": "ipython3",
   "version": "3.9.12"
  }
 },
 "nbformat": 4,
 "nbformat_minor": 5
}
