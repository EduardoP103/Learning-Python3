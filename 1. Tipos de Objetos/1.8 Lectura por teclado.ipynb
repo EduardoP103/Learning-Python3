{
 "cells": [
  {
   "cell_type": "markdown",
   "id": "802d3483",
   "metadata": {},
   "source": [
    "<font color=Green>\n",
    "    \n",
    "# 2.7 Operadores lógicos\n",
    "</font>\n",
    "\n",
    "###   La función input( ) permite almacenar un valor ingresador con el teclado en una variable"
   ]
  },
  {
   "cell_type": "code",
   "execution_count": 1,
   "id": "52f090e9",
   "metadata": {},
   "outputs": [
    {
     "name": "stdout",
     "output_type": "stream",
     "text": [
      "Eduardo Pastor 1234\n"
     ]
    }
   ],
   "source": [
    "valor = input()"
   ]
  },
  {
   "cell_type": "code",
   "execution_count": 2,
   "id": "ff43ee19",
   "metadata": {},
   "outputs": [
    {
     "data": {
      "text/plain": [
       "'Eduardo Pastor 1234'"
      ]
     },
     "execution_count": 2,
     "metadata": {},
     "output_type": "execute_result"
    }
   ],
   "source": [
    "valor"
   ]
  },
  {
   "cell_type": "markdown",
   "id": "f9e314fe",
   "metadata": {},
   "source": [
    "### La función input( ) almacena todo como variable str. Pero se puede modificar este tipo"
   ]
  },
  {
   "cell_type": "code",
   "execution_count": 3,
   "id": "70f4a0c3",
   "metadata": {},
   "outputs": [
    {
     "data": {
      "text/plain": [
       "str"
      ]
     },
     "execution_count": 3,
     "metadata": {},
     "output_type": "execute_result"
    }
   ],
   "source": [
    "type(valor)"
   ]
  },
  {
   "cell_type": "code",
   "execution_count": 4,
   "id": "9ad4c9cf",
   "metadata": {},
   "outputs": [
    {
     "name": "stdout",
     "output_type": "stream",
     "text": [
      "Introduce un número: 12345.6\n"
     ]
    }
   ],
   "source": [
    "valor_num = float(input('Introduce un número: '))"
   ]
  },
  {
   "cell_type": "code",
   "execution_count": 8,
   "id": "ce8ab003",
   "metadata": {},
   "outputs": [
    {
     "data": {
      "text/plain": [
       "12345.6"
      ]
     },
     "execution_count": 8,
     "metadata": {},
     "output_type": "execute_result"
    }
   ],
   "source": [
    "valor_num"
   ]
  },
  {
   "cell_type": "code",
   "execution_count": 7,
   "id": "e90aaeb6",
   "metadata": {},
   "outputs": [
    {
     "data": {
      "text/plain": [
       "float"
      ]
     },
     "execution_count": 7,
     "metadata": {},
     "output_type": "execute_result"
    }
   ],
   "source": [
    "type(valor_num)"
   ]
  },
  {
   "cell_type": "code",
   "execution_count": 9,
   "id": "5fbb8bf6",
   "metadata": {},
   "outputs": [
    {
     "name": "stdout",
     "output_type": "stream",
     "text": [
      "Ingresa tu edad : 18\n"
     ]
    }
   ],
   "source": [
    "edad = int(input(\"Ingresa tu edad : \"))"
   ]
  },
  {
   "cell_type": "code",
   "execution_count": 11,
   "id": "382e348d",
   "metadata": {},
   "outputs": [
    {
     "name": "stdout",
     "output_type": "stream",
     "text": [
      "18 <class 'int'>\n"
     ]
    }
   ],
   "source": [
    "print(edad, type(edad))"
   ]
  },
  {
   "cell_type": "code",
   "execution_count": null,
   "id": "02cad60c",
   "metadata": {},
   "outputs": [],
   "source": []
  }
 ],
 "metadata": {
  "kernelspec": {
   "display_name": "Python 3 (ipykernel)",
   "language": "python",
   "name": "python3"
  },
  "language_info": {
   "codemirror_mode": {
    "name": "ipython",
    "version": 3
   },
   "file_extension": ".py",
   "mimetype": "text/x-python",
   "name": "python",
   "nbconvert_exporter": "python",
   "pygments_lexer": "ipython3",
   "version": "3.9.12"
  }
 },
 "nbformat": 4,
 "nbformat_minor": 5
}
