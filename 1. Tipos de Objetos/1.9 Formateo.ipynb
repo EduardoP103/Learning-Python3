{
 "cells": [
  {
   "cell_type": "markdown",
   "id": "f609d182",
   "metadata": {},
   "source": [
    "<font color=Green>\n",
    "    \n",
    "# 2.9 Formateo \n",
    "</font>\n"
   ]
  },
  {
   "cell_type": "code",
   "execution_count": 1,
   "id": "98c73254",
   "metadata": {},
   "outputs": [
    {
     "data": {
      "text/plain": [
       "'1 es el primer valor y 2 es el segundo'"
      ]
     },
     "execution_count": 1,
     "metadata": {},
     "output_type": "execute_result"
    }
   ],
   "source": [
    "'{} es el primer valor y {} es el segundo'.format(1,2)"
   ]
  },
  {
   "cell_type": "code",
   "execution_count": 2,
   "id": "08739e30",
   "metadata": {},
   "outputs": [
    {
     "data": {
      "text/plain": [
       "'En este caso alteramos el orden y el Dos aparece primero, luego el Uno'"
      ]
     },
     "execution_count": 2,
     "metadata": {},
     "output_type": "execute_result"
    }
   ],
   "source": [
    "'En este caso alteramos el orden y el {1} aparece primero, luego el {0}'.format('Uno', 'Dos')"
   ]
  },
  {
   "cell_type": "code",
   "execution_count": 5,
   "id": "c02fd983",
   "metadata": {},
   "outputs": [
    {
     "name": "stdout",
     "output_type": "stream",
     "text": [
      " El valor de Perla es  0.7\n"
     ]
    }
   ],
   "source": [
    "nombre = 'Perla'\n",
    "\n",
    "x= .7\n",
    "\n",
    "print(F' El valor de {nombre} es ', x)\n",
    "# F es el formato, Evalua el valor"
   ]
  },
  {
   "cell_type": "markdown",
   "id": "0c42a086",
   "metadata": {},
   "source": [
    "### También podemos apicar métodos"
   ]
  },
  {
   "cell_type": "code",
   "execution_count": 9,
   "id": "38677db1",
   "metadata": {},
   "outputs": [
    {
     "name": "stdout",
     "output_type": "stream",
     "text": [
      " El valor de Perla \n",
      " es 0.7 dólares por gato\n"
     ]
    }
   ],
   "source": [
    "print(f' El valor de {nombre.title()} \\n es', x, 'dólares por gato')"
   ]
  },
  {
   "cell_type": "code",
   "execution_count": 10,
   "id": "0c748ec3",
   "metadata": {},
   "outputs": [
    {
     "name": "stdout",
     "output_type": "stream",
     "text": [
      "{'uno': 0.7, 'dos': 10.7}\n"
     ]
    }
   ],
   "source": [
    "diccionario = {'uno': x, 'dos': x.__add__(10)}\n",
    "\n",
    "print(diccionario)"
   ]
  },
  {
   "cell_type": "code",
   "execution_count": 11,
   "id": "f9399b2f",
   "metadata": {},
   "outputs": [
    {
     "name": "stdout",
     "output_type": "stream",
     "text": [
      "Perla cuesta 0.7 soles \n",
      " y el otro libro 10.7 dólares.\n"
     ]
    }
   ],
   "source": [
    "print(f'{nombre.title()} cuesta {diccionario[\"uno\"]} soles \\n y el otro libro {diccionario[\"dos\"]} dólares.')"
   ]
  },
  {
   "cell_type": "code",
   "execution_count": null,
   "id": "2f38df14",
   "metadata": {},
   "outputs": [],
   "source": []
  }
 ],
 "metadata": {
  "kernelspec": {
   "display_name": "Python 3 (ipykernel)",
   "language": "python",
   "name": "python3"
  },
  "language_info": {
   "codemirror_mode": {
    "name": "ipython",
    "version": 3
   },
   "file_extension": ".py",
   "mimetype": "text/x-python",
   "name": "python",
   "nbconvert_exporter": "python",
   "pygments_lexer": "ipython3",
   "version": "3.9.12"
  }
 },
 "nbformat": 4,
 "nbformat_minor": 5
}
