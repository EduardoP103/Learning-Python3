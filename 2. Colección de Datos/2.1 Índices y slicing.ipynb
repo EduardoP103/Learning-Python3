{
 "cells": [
  {
   "cell_type": "markdown",
   "id": "581bd38c",
   "metadata": {},
   "source": [
    "<font color=Green>\n",
    "    \n",
    "# **3.1 Índices y slicing**\n",
    "\n",
    "</font>\n",
    "\n",
    "###   Los índices son números ordenados asociados a las variables que nos permiten identificar los elementos por su posición.\n",
    "\n",
    "### Por ejemplo, cada elemento de una cadena tiene su índice."
   ]
  },
  {
   "cell_type": "code",
   "execution_count": 1,
   "id": "a86cba08",
   "metadata": {},
   "outputs": [],
   "source": [
    "texto = 'ESTA-CADENA'"
   ]
  },
  {
   "cell_type": "markdown",
   "id": "3d6fe1cf",
   "metadata": {},
   "source": [
    "### El primer elemento siempre tiene el índice 0 porque con este número inicia la numeración.\n"
   ]
  },
  {
   "cell_type": "code",
   "execution_count": 2,
   "id": "b916ad60",
   "metadata": {},
   "outputs": [
    {
     "name": "stdout",
     "output_type": "stream",
     "text": [
      "E S T A\n"
     ]
    }
   ],
   "source": [
    "print(texto[0], texto[1], texto[2], texto[3])"
   ]
  },
  {
   "cell_type": "markdown",
   "id": "1011c00d",
   "metadata": {},
   "source": [
    "### También a causa de esto, el índice del último elemento se diferencia del número total de elementos por una unidad.\n",
    "\n",
    "> _[ texto[0], texto[1], ... texto[ n-3 ], texto[ n-2 ], texto[ n-1 ] ]_"
   ]
  },
  {
   "cell_type": "code",
   "execution_count": 4,
   "id": "78a10bb0",
   "metadata": {},
   "outputs": [
    {
     "name": "stdout",
     "output_type": "stream",
     "text": [
      "C A D E N A\n"
     ]
    }
   ],
   "source": [
    "print(texto[5], texto[6], texto[7], texto[8], texto[9], texto[10])"
   ]
  },
  {
   "cell_type": "markdown",
   "id": "0f43d4f8",
   "metadata": {},
   "source": [
    "### Para cada elemento también existe un índice inverso que realiza una numeración desde el último elemento hasta el primero, empezando la cuenta con -1."
   ]
  },
  {
   "cell_type": "code",
   "execution_count": 5,
   "id": "61b651e4",
   "metadata": {},
   "outputs": [
    {
     "name": "stdout",
     "output_type": "stream",
     "text": [
      "C A D E N A\n"
     ]
    }
   ],
   "source": [
    "#    -6 \\ -5 \\ -4 \\ -3 \\ -2 \\ -1\n",
    "#     C    A    D    E    N    A\n",
    "#     5 /  6 /  7 /  8 /  9 /  10\n",
    "\n",
    "print(texto[-6], texto[-5], texto[-4], texto[-3], texto[-2], texto[-1])"
   ]
  },
  {
   "cell_type": "markdown",
   "id": "1292ee0b",
   "metadata": {},
   "source": [
    "<font color=#003d5c>\n",
    "    \n",
    "## _Slicing_\n",
    "    \n",
    "</font>\n",
    "\n",
    "###  Gracias a los índices podemos seleccionar una secuencia de elementos de una variable. Esto se conoce como slicing\n",
    "\n",
    "### La secuencia de elementos la definimos con el formato _[ a : b ]_ . Esto es un rango de valores, y el slicing va a devolvernos desde el elemento _a_ hasta el elemento previo al _b_, así que vamos a decir que b está excluido del rango.\n",
    "\n",
    "> __PROTIP__ : Cuando un rango de valores excluye alguno de sus límites (Siendo _a_ el límite inferior, y _b_ el límite superior), se dice que el rango es abierto: \\\n",
    ">--->_Abierto por la derecha_ , si excluye a _b_ \\\n",
    ">--->_Abierto por la izquierda_ , si excluye a _a_"
   ]
  },
  {
   "cell_type": "code",
   "execution_count": 7,
   "id": "ad5e2563",
   "metadata": {},
   "outputs": [
    {
     "data": {
      "text/plain": [
       "'EST'"
      ]
     },
     "execution_count": 7,
     "metadata": {},
     "output_type": "execute_result"
    }
   ],
   "source": [
    "texto[0:3]"
   ]
  },
  {
   "cell_type": "code",
   "execution_count": 9,
   "id": "76c4e6f0",
   "metadata": {},
   "outputs": [
    {
     "data": {
      "text/plain": [
       "'ESTA'"
      ]
     },
     "execution_count": 9,
     "metadata": {},
     "output_type": "execute_result"
    }
   ],
   "source": [
    "texto[0:4]"
   ]
  },
  {
   "cell_type": "code",
   "execution_count": 13,
   "id": "0dcc1476",
   "metadata": {},
   "outputs": [
    {
     "data": {
      "text/plain": [
       "'CADEN'"
      ]
     },
     "execution_count": 13,
     "metadata": {},
     "output_type": "execute_result"
    }
   ],
   "source": [
    "texto[-6:-1]"
   ]
  },
  {
   "cell_type": "markdown",
   "id": "e9b01c1c",
   "metadata": {},
   "source": [
    "### Podemos omitir especificar alguno de los límites:\n",
    "+ Si omitimos a [: b], empezará la secuencia desde el índice 0. (Equivale a escribir [ 0 : b ] )\n",
    "+ Si omitimos b [a :], terminará la secuencia con el último elemento. (Equivale a escribir [ a : (n-1) ] )"
   ]
  },
  {
   "cell_type": "code",
   "execution_count": 16,
   "id": "da0fb1c6",
   "metadata": {},
   "outputs": [
    {
     "data": {
      "text/plain": [
       "'CADEN'"
      ]
     },
     "execution_count": 16,
     "metadata": {},
     "output_type": "execute_result"
    }
   ],
   "source": [
    "texto[-6: -1]"
   ]
  },
  {
   "cell_type": "code",
   "execution_count": 17,
   "id": "7b764a5a",
   "metadata": {},
   "outputs": [
    {
     "data": {
      "text/plain": [
       "'CADENA'"
      ]
     },
     "execution_count": 17,
     "metadata": {},
     "output_type": "execute_result"
    }
   ],
   "source": [
    "texto[-6:]"
   ]
  },
  {
   "cell_type": "code",
   "execution_count": 19,
   "id": "f4c3d52f",
   "metadata": {},
   "outputs": [
    {
     "data": {
      "text/plain": [
       "'ESTA'"
      ]
     },
     "execution_count": 19,
     "metadata": {},
     "output_type": "execute_result"
    }
   ],
   "source": [
    "texto[:4]"
   ]
  },
  {
   "cell_type": "code",
   "execution_count": 20,
   "id": "183e1e81",
   "metadata": {},
   "outputs": [
    {
     "data": {
      "text/plain": [
       "'A-CA'"
      ]
     },
     "execution_count": 20,
     "metadata": {},
     "output_type": "execute_result"
    }
   ],
   "source": [
    "texto[3:7]"
   ]
  },
  {
   "cell_type": "code",
   "execution_count": null,
   "id": "44f1525d",
   "metadata": {},
   "outputs": [],
   "source": []
  }
 ],
 "metadata": {
  "kernelspec": {
   "display_name": "Python 3 (ipykernel)",
   "language": "python",
   "name": "python3"
  },
  "language_info": {
   "codemirror_mode": {
    "name": "ipython",
    "version": 3
   },
   "file_extension": ".py",
   "mimetype": "text/x-python",
   "name": "python",
   "nbconvert_exporter": "python",
   "pygments_lexer": "ipython3",
   "version": "3.9.12"
  }
 },
 "nbformat": 4,
 "nbformat_minor": 5
}
