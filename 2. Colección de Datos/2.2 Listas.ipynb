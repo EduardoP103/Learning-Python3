{
 "cells": [
  {
   "cell_type": "markdown",
   "id": "7557a7eb",
   "metadata": {},
   "source": [
    "<font color=Green>\n",
    "    \n",
    "# **3.2 Listas**\n",
    "\n",
    "</font>\n",
    "\n",
    "###  Son un tipo de dato compuesto de varios elementos, estos pueden ser carácteres o números u otros tipos incluso. Cada elemento de la lista es accesible gracias a su indice"
   ]
  },
  {
   "cell_type": "code",
   "execution_count": 1,
   "id": "876ab91c",
   "metadata": {},
   "outputs": [],
   "source": [
    "lista_de_compras = [\"Huevos\", \"Leche\", \"Queso\", \"Jabón\"]\n",
    "lista_con_precios = [\"Huevos\", 1.5, \"Leche\", 2, \"Queso\", 3.5, \"Jabón\",5]"
   ]
  },
  {
   "cell_type": "code",
   "execution_count": 2,
   "id": "51feeed8",
   "metadata": {},
   "outputs": [
    {
     "data": {
      "text/plain": [
       "['Huevos', 'Leche', 'Queso', 'Jabón']"
      ]
     },
     "execution_count": 2,
     "metadata": {},
     "output_type": "execute_result"
    }
   ],
   "source": [
    "lista_de_compras"
   ]
  },
  {
   "cell_type": "code",
   "execution_count": 6,
   "id": "18316a6c",
   "metadata": {},
   "outputs": [
    {
     "name": "stdout",
     "output_type": "stream",
     "text": [
      "Los Huevos cuestan 1.5\n",
      "La Leche cuesta 2\n"
     ]
    }
   ],
   "source": [
    "print(f\"\"\"Los {lista_con_precios[0]} cuestan {lista_con_precios[1]}\n",
    "La {lista_con_precios[2]} cuesta {lista_con_precios[3]}\"\"\")"
   ]
  },
  {
   "cell_type": "markdown",
   "id": "d45605a1",
   "metadata": {},
   "source": [
    "<font color=#003d5c>    \n",
    "    \n",
    "## _Mutabilidad_\n",
    "</font>\n",
    "\n",
    "### Las listas tienen la característica de permitirnos modificar el valor de alguno de sus elementos. Esto se llama mutabilidad y es importante distinguir entre objetos _mutables_ , como las listas, y otros objetos _inmutables_\n"
   ]
  },
  {
   "cell_type": "code",
   "execution_count": 7,
   "id": "c8e0b654",
   "metadata": {},
   "outputs": [
    {
     "name": "stdout",
     "output_type": "stream",
     "text": [
      "['Huevos', 0.9, 'Leche', 2, 'Queso', 3.5, 'Jabón', 5]\n",
      "Los Leche cuestan 0.9\n"
     ]
    }
   ],
   "source": [
    "lista_con_precios[1] = 0.9\n",
    "\n",
    "print(f'''{lista_con_precios}\n",
    "Los {lista_con_precios[2]} cuestan {lista_con_precios[1]}''')"
   ]
  },
  {
   "cell_type": "markdown",
   "id": "e57364d3",
   "metadata": {},
   "source": [
    "<font color=#003d5c>     \n",
    "    \n",
    "## _Métodos de las listas_\n",
    "</font>\n",
    "\n",
    "### Podemos inicializar una lista de números a través de una función llamada range( _a, b, in_ ):\n",
    "+ _a_ es el límite inferior de la secuencia de números\n",
    "+ _b_ es el límite superior (éste se excluye).\n",
    "+ _in_ es la unidad de incremento (argumento opcional)\n",
    "\n"
   ]
  },
  {
   "cell_type": "code",
   "execution_count": 8,
   "id": "474e162f",
   "metadata": {},
   "outputs": [
    {
     "data": {
      "text/plain": [
       "range(0, 20, 2)"
      ]
     },
     "execution_count": 8,
     "metadata": {},
     "output_type": "execute_result"
    }
   ],
   "source": [
    "range(0, 20, 2)"
   ]
  },
  {
   "cell_type": "code",
   "execution_count": 10,
   "id": "aa63d0e3",
   "metadata": {},
   "outputs": [
    {
     "name": "stdout",
     "output_type": "stream",
     "text": [
      "range(0, 20, 2)\n",
      "[0, 2, 4, 6, 8, 10, 12, 14, 16, 18]\n"
     ]
    }
   ],
   "source": [
    "numeros = range(0,20,2);\n",
    "\n",
    "lista_numeros = list(numeros);\n",
    "\n",
    "print(f'''{numeros}\n",
    "{lista_numeros}''')"
   ]
  },
  {
   "cell_type": "markdown",
   "id": "88298f70",
   "metadata": {},
   "source": [
    "### Para añadir elementos a la lista utilizamos el método append()."
   ]
  },
  {
   "cell_type": "code",
   "execution_count": 11,
   "id": "ddfcac57",
   "metadata": {},
   "outputs": [
    {
     "name": "stdout",
     "output_type": "stream",
     "text": [
      "[0, 2, 4, 6, 8, 10, 12, 14, 16, 18, 4]\n"
     ]
    }
   ],
   "source": [
    "lista_numeros.append(4)\n",
    "print(lista_numeros)"
   ]
  },
  {
   "cell_type": "markdown",
   "id": "39386ceb",
   "metadata": {},
   "source": [
    "### Podemos aplicar el operador de la adición + para concatenar dos listas "
   ]
  },
  {
   "cell_type": "code",
   "execution_count": 12,
   "id": "13ee4f39",
   "metadata": {},
   "outputs": [
    {
     "data": {
      "text/plain": [
       "[0,\n",
       " 2,\n",
       " 4,\n",
       " 6,\n",
       " 8,\n",
       " 10,\n",
       " 12,\n",
       " 14,\n",
       " 16,\n",
       " 18,\n",
       " 4,\n",
       " 23,\n",
       " 66,\n",
       " 12,\n",
       " 35,\n",
       " 'hola',\n",
       " 'overtime',\n",
       " 'cygne']"
      ]
     },
     "execution_count": 12,
     "metadata": {},
     "output_type": "execute_result"
    }
   ],
   "source": [
    "lista_numeros + [23, 66, 12, 35, 'hola', 'overtime', 'cygne']"
   ]
  },
  {
   "cell_type": "code",
   "execution_count": 14,
   "id": "3a53bc1c",
   "metadata": {},
   "outputs": [
    {
     "data": {
      "text/plain": [
       "[0, 2, 4, 6, 8, 23, 66, 12, 35, 'hola', 'overtime', 'cygne']"
      ]
     },
     "execution_count": 14,
     "metadata": {},
     "output_type": "execute_result"
    }
   ],
   "source": [
    "nu_lista = lista_numeros[:5] + [23, 66, 12, 35, 'hola', 'overtime', 'cygne']\n",
    "nu_lista"
   ]
  },
  {
   "cell_type": "markdown",
   "id": "fe17e330",
   "metadata": {},
   "source": [
    "### La función len() nos permite conocer el número total de elementos"
   ]
  },
  {
   "cell_type": "code",
   "execution_count": 15,
   "id": "04c30572",
   "metadata": {},
   "outputs": [
    {
     "data": {
      "text/plain": [
       "3"
      ]
     },
     "execution_count": 15,
     "metadata": {},
     "output_type": "execute_result"
    }
   ],
   "source": [
    "len([1, 2, 3])"
   ]
  },
  {
   "cell_type": "code",
   "execution_count": 17,
   "id": "59cca10e",
   "metadata": {},
   "outputs": [
    {
     "data": {
      "text/plain": [
       "12"
      ]
     },
     "execution_count": 17,
     "metadata": {},
     "output_type": "execute_result"
    }
   ],
   "source": [
    "len(nu_lista)"
   ]
  },
  {
   "cell_type": "markdown",
   "id": "94436cf1",
   "metadata": {},
   "source": [
    "### Podemos comprobar si algún valor existe dentro de una lista a través del término _in_"
   ]
  },
  {
   "cell_type": "code",
   "execution_count": 18,
   "id": "e6e5330c",
   "metadata": {},
   "outputs": [
    {
     "data": {
      "text/plain": [
       "True"
      ]
     },
     "execution_count": 18,
     "metadata": {},
     "output_type": "execute_result"
    }
   ],
   "source": [
    "3 in [1, 2, 3]"
   ]
  },
  {
   "cell_type": "code",
   "execution_count": 19,
   "id": "8aa21ee8",
   "metadata": {},
   "outputs": [
    {
     "data": {
      "text/plain": [
       "True"
      ]
     },
     "execution_count": 19,
     "metadata": {},
     "output_type": "execute_result"
    }
   ],
   "source": [
    "\"hola\" in nu_lista"
   ]
  },
  {
   "cell_type": "code",
   "execution_count": 20,
   "id": "63afb2f7",
   "metadata": {},
   "outputs": [
    {
     "data": {
      "text/plain": [
       "False"
      ]
     },
     "execution_count": 20,
     "metadata": {},
     "output_type": "execute_result"
    }
   ],
   "source": [
    "\"hello\" in nu_lista"
   ]
  },
  {
   "cell_type": "markdown",
   "id": "8805bf41",
   "metadata": {},
   "source": [
    "### Podemos actualizar varios elementos de una lista utilizando el slicing."
   ]
  },
  {
   "cell_type": "code",
   "execution_count": 21,
   "id": "c3728387",
   "metadata": {},
   "outputs": [
    {
     "data": {
      "text/plain": [
       "['Platos',\n",
       " 14,\n",
       " 'Libros',\n",
       " 'Teclados',\n",
       " 8,\n",
       " 23,\n",
       " 66,\n",
       " 12,\n",
       " 35,\n",
       " 'hola',\n",
       " 'overtime',\n",
       " 'cygne']"
      ]
     },
     "execution_count": 21,
     "metadata": {},
     "output_type": "execute_result"
    }
   ],
   "source": [
    "nu_lista[:4] = [\"Platos\", 14, \"Libros\",\"Teclados\"]\n",
    "nu_lista"
   ]
  },
  {
   "cell_type": "markdown",
   "id": "a3234933",
   "metadata": {},
   "source": [
    "### También podemos trabajar con listas anidadas, asignando listas como valores en una lista."
   ]
  },
  {
   "cell_type": "code",
   "execution_count": 22,
   "id": "71c6bb64",
   "metadata": {},
   "outputs": [
    {
     "data": {
      "text/plain": [
       "[[1, 2, 3], [4, 5, 6], [7, 8, 9]]"
      ]
     },
     "execution_count": 22,
     "metadata": {},
     "output_type": "execute_result"
    }
   ],
   "source": [
    "fila_1 = [1, 2, 3]\n",
    "fila_2 = [4, 5, 6]\n",
    "fila_3 = [7, 8, 9]\n",
    "matriz = [fila_1, fila_2, fila_3]\n",
    "matriz"
   ]
  },
  {
   "cell_type": "code",
   "execution_count": 23,
   "id": "ad9c1dcd",
   "metadata": {},
   "outputs": [
    {
     "data": {
      "text/plain": [
       "[1, 2, 3]"
      ]
     },
     "execution_count": 23,
     "metadata": {},
     "output_type": "execute_result"
    }
   ],
   "source": [
    "matriz[0]"
   ]
  },
  {
   "cell_type": "code",
   "execution_count": 24,
   "id": "3a2a9802",
   "metadata": {},
   "outputs": [
    {
     "data": {
      "text/plain": [
       "True"
      ]
     },
     "execution_count": 24,
     "metadata": {},
     "output_type": "execute_result"
    }
   ],
   "source": [
    "matriz[0] == fila_1\n"
   ]
  },
  {
   "cell_type": "code",
   "execution_count": 25,
   "id": "c63ced6b",
   "metadata": {},
   "outputs": [
    {
     "data": {
      "text/plain": [
       "2"
      ]
     },
     "execution_count": 25,
     "metadata": {},
     "output_type": "execute_result"
    }
   ],
   "source": [
    "matriz[0][1] # Acceder a los elementos de la fila_1"
   ]
  },
  {
   "cell_type": "code",
   "execution_count": 26,
   "id": "245286fc",
   "metadata": {},
   "outputs": [
    {
     "data": {
      "text/plain": [
       "[5, 6]"
      ]
     },
     "execution_count": 26,
     "metadata": {},
     "output_type": "execute_result"
    }
   ],
   "source": [
    "matriz[1][1:]"
   ]
  },
  {
   "cell_type": "code",
   "execution_count": null,
   "id": "ad7b320c",
   "metadata": {},
   "outputs": [],
   "source": []
  }
 ],
 "metadata": {
  "kernelspec": {
   "display_name": "Python 3 (ipykernel)",
   "language": "python",
   "name": "python3"
  },
  "language_info": {
   "codemirror_mode": {
    "name": "ipython",
    "version": 3
   },
   "file_extension": ".py",
   "mimetype": "text/x-python",
   "name": "python",
   "nbconvert_exporter": "python",
   "pygments_lexer": "ipython3",
   "version": "3.9.12"
  }
 },
 "nbformat": 4,
 "nbformat_minor": 5
}
