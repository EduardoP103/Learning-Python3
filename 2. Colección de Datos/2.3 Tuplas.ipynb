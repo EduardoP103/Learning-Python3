{
 "cells": [
  {
   "cell_type": "markdown",
   "id": "4c5b62fd",
   "metadata": {},
   "source": [
    "<font color=Green>\n",
    "    \n",
    "# **3.3 Tuplas**\n",
    "    \n",
    "</font>\n",
    "\n",
    "### Una tupla es una secuencia de valores (muy parecida a una lista).  Los valores almacenados en una tupla pueden ser de cualquier tipo, y también están indexados.\n",
    "\n",
    "### Se diferencia de las listas en que:\n",
    "+ No podemos modificar sus valores luego de crearla (Es inmutable).\n",
    "+ Definimos sus valores entre paréntesis, en vez de corchetes.\n"
   ]
  },
  {
   "cell_type": "code",
   "execution_count": 2,
   "id": "f771a2da",
   "metadata": {},
   "outputs": [],
   "source": [
    "tupla = ('Lunes', 'Martes', 'Miercoles')\n",
    "tupla_multi = ([1, 2, 3], 'a', 71.4, tupla)"
   ]
  },
  {
   "cell_type": "code",
   "execution_count": 8,
   "id": "356e8ec2",
   "metadata": {},
   "outputs": [
    {
     "data": {
      "text/plain": [
       "('Lunes', 'Martes', 'Miercoles')"
      ]
     },
     "execution_count": 8,
     "metadata": {},
     "output_type": "execute_result"
    }
   ],
   "source": [
    "tupla"
   ]
  },
  {
   "cell_type": "code",
   "execution_count": 3,
   "id": "c7a98f5b",
   "metadata": {},
   "outputs": [
    {
     "data": {
      "text/plain": [
       "([1, 2, 3], 'a', 71.4, ('Lunes', 'Martes', 'Miercoles'))"
      ]
     },
     "execution_count": 3,
     "metadata": {},
     "output_type": "execute_result"
    }
   ],
   "source": [
    "tupla_multi"
   ]
  },
  {
   "cell_type": "code",
   "execution_count": 4,
   "id": "ca6dd378",
   "metadata": {},
   "outputs": [
    {
     "data": {
      "text/plain": [
       "('Lunes', 'Martes', 'Miercoles')"
      ]
     },
     "execution_count": 4,
     "metadata": {},
     "output_type": "execute_result"
    }
   ],
   "source": [
    "tupla_multi[-1] "
   ]
  },
  {
   "cell_type": "code",
   "execution_count": 11,
   "id": "0b529cab",
   "metadata": {},
   "outputs": [
    {
     "ename": "TypeError",
     "evalue": "'tuple' object does not support item assignment",
     "output_type": "error",
     "traceback": [
      "\u001b[1;31m---------------------------------------------------------------------------\u001b[0m",
      "\u001b[1;31mTypeError\u001b[0m                                 Traceback (most recent call last)",
      "Input \u001b[1;32mIn [11]\u001b[0m, in \u001b[0;36m<cell line: 1>\u001b[1;34m()\u001b[0m\n\u001b[1;32m----> 1\u001b[0m tupla_multi[\u001b[38;5;241m0\u001b[39m] \u001b[38;5;241m=\u001b[39m \u001b[38;5;241m4\u001b[39m\n",
      "\u001b[1;31mTypeError\u001b[0m: 'tuple' object does not support item assignment"
     ]
    }
   ],
   "source": [
    "tupla_multi[0] = 4"
   ]
  },
  {
   "cell_type": "code",
   "execution_count": 6,
   "id": "22b6cd8c",
   "metadata": {},
   "outputs": [
    {
     "data": {
      "text/plain": [
       "['Lunes', 'Martes', 'Miercoles']"
      ]
     },
     "execution_count": 6,
     "metadata": {},
     "output_type": "execute_result"
    }
   ],
   "source": [
    "lista = list(tupla)\n",
    "lista"
   ]
  },
  {
   "cell_type": "code",
   "execution_count": 7,
   "id": "d08ac209",
   "metadata": {},
   "outputs": [
    {
     "data": {
      "text/plain": [
       "['Domingo', 'Martes', 'Miercoles']"
      ]
     },
     "execution_count": 7,
     "metadata": {},
     "output_type": "execute_result"
    }
   ],
   "source": [
    "lista[0] = 'Domingo'\n",
    "lista"
   ]
  },
  {
   "cell_type": "markdown",
   "id": "b073d9b6",
   "metadata": {},
   "source": [
    "<font color=#003d5c> \n",
    "    \n",
    "# *Métodos*\n",
    "\n",
    "</font>"
   ]
  },
  {
   "cell_type": "code",
   "execution_count": 13,
   "id": "a3add644",
   "metadata": {},
   "outputs": [
    {
     "data": {
      "text/plain": [
       "0"
      ]
     },
     "execution_count": 13,
     "metadata": {},
     "output_type": "execute_result"
    }
   ],
   "source": [
    "tupla.index('Lunes')"
   ]
  },
  {
   "cell_type": "code",
   "execution_count": 15,
   "id": "8d7ee59f",
   "metadata": {},
   "outputs": [
    {
     "data": {
      "text/plain": [
       "1"
      ]
     },
     "execution_count": 15,
     "metadata": {},
     "output_type": "execute_result"
    }
   ],
   "source": [
    "tupla_multi.count('a') # Cantidad de veces que aparece en una tupla"
   ]
  },
  {
   "cell_type": "code",
   "execution_count": null,
   "id": "0e7eaf0f",
   "metadata": {},
   "outputs": [],
   "source": []
  }
 ],
 "metadata": {
  "kernelspec": {
   "display_name": "Python 3 (ipykernel)",
   "language": "python",
   "name": "python3"
  },
  "language_info": {
   "codemirror_mode": {
    "name": "ipython",
    "version": 3
   },
   "file_extension": ".py",
   "mimetype": "text/x-python",
   "name": "python",
   "nbconvert_exporter": "python",
   "pygments_lexer": "ipython3",
   "version": "3.9.12"
  }
 },
 "nbformat": 4,
 "nbformat_minor": 5
}
