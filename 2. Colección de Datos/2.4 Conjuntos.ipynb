{
 "cells": [
  {
   "cell_type": "markdown",
   "id": "019893e1",
   "metadata": {},
   "source": [
    "<font color=Green>\n",
    "    \n",
    "# **3.4 Conjuntos**\n",
    "    \n",
    "</font>\n",
    "\n",
    "### Los conjuntos son colecciones de datos que nos facilitan ciertas operaciones ya que solo contienen valores únicos.\n",
    "\n",
    "### Se diferencian de las tuplas y listas en que\n",
    "+ Cada elemento dentro del conjunto es único.\n",
    "+ Sus elementos no están ordenados.\n"
   ]
  },
  {
   "cell_type": "code",
   "execution_count": 1,
   "id": "ca3a88e2",
   "metadata": {},
   "outputs": [],
   "source": [
    "conjunto_vacio = set()\n",
    "\n",
    "conjunto = {1, 2, 3}"
   ]
  },
  {
   "cell_type": "code",
   "execution_count": 2,
   "id": "d4e682f1",
   "metadata": {},
   "outputs": [
    {
     "name": "stdout",
     "output_type": "stream",
     "text": [
      "<class 'set'> {1, 2, 3}\n"
     ]
    }
   ],
   "source": [
    "print(type(conjunto_vacio), conjunto)"
   ]
  },
  {
   "cell_type": "markdown",
   "id": "7a5a60a5",
   "metadata": {},
   "source": [
    "<font color=#003d5c> \n",
    "    \n",
    "## *Métodos*\n",
    "\n",
    "</font>\n",
    "\n",
    "### El método add() nos permite agregar elementos al conjunto"
   ]
  },
  {
   "cell_type": "code",
   "execution_count": 3,
   "id": "ca3e18ee",
   "metadata": {},
   "outputs": [
    {
     "data": {
      "text/plain": [
       "{1, 2, 3, 4, 5, 'A', 'C', 'P'}"
      ]
     },
     "execution_count": 3,
     "metadata": {},
     "output_type": "execute_result"
    }
   ],
   "source": [
    "conjunto.add(4)\n",
    "conjunto.add(5)\n",
    "conjunto.add('C')\n",
    "conjunto.add('A')\n",
    "conjunto.add('P')\n",
    "conjunto "
   ]
  },
  {
   "cell_type": "code",
   "execution_count": 4,
   "id": "b2be18a9",
   "metadata": {},
   "outputs": [
    {
     "name": "stdout",
     "output_type": "stream",
     "text": [
      "{1, 2, 3, 4, 5, 'A', 'C', 'P'}\n"
     ]
    }
   ],
   "source": [
    "conjunto.add('C')\n",
    "print(conjunto)"
   ]
  },
  {
   "cell_type": "markdown",
   "id": "b2721cbf",
   "metadata": {},
   "source": [
    "### Podemos utilizar los conjuntos para verificar pertenencia "
   ]
  },
  {
   "cell_type": "code",
   "execution_count": 5,
   "id": "215f7845",
   "metadata": {},
   "outputs": [
    {
     "data": {
      "text/plain": [
       "True"
      ]
     },
     "execution_count": 5,
     "metadata": {},
     "output_type": "execute_result"
    }
   ],
   "source": [
    "grupo = {'Luis', 'Giulia', 'Victor', 'Aaron', 'Johel'}\n",
    "'Victor' in grupo"
   ]
  },
  {
   "cell_type": "code",
   "execution_count": 7,
   "id": "9ab0c19e",
   "metadata": {},
   "outputs": [
    {
     "data": {
      "text/plain": [
       "False"
      ]
     },
     "execution_count": 7,
     "metadata": {},
     "output_type": "execute_result"
    }
   ],
   "source": [
    "\"Johel\" not in grupo"
   ]
  },
  {
   "cell_type": "code",
   "execution_count": 8,
   "id": "4d978e1d",
   "metadata": {},
   "outputs": [
    {
     "data": {
      "text/plain": [
       "True"
      ]
     },
     "execution_count": 8,
     "metadata": {},
     "output_type": "execute_result"
    }
   ],
   "source": [
    "4 not in grupo"
   ]
  },
  {
   "cell_type": "code",
   "execution_count": 9,
   "id": "7d1b62fd",
   "metadata": {},
   "outputs": [
    {
     "data": {
      "text/plain": [
       "False"
      ]
     },
     "execution_count": 9,
     "metadata": {},
     "output_type": "execute_result"
    }
   ],
   "source": [
    "10 in conjunto"
   ]
  },
  {
   "cell_type": "markdown",
   "id": "d16fa130",
   "metadata": {},
   "source": [
    "### Un conjunto elimina automáticamente los elementos duplicados"
   ]
  },
  {
   "cell_type": "code",
   "execution_count": 11,
   "id": "df08c104",
   "metadata": {},
   "outputs": [
    {
     "data": {
      "text/plain": [
       "{'Ford', 'Toyota'}"
      ]
     },
     "execution_count": 11,
     "metadata": {},
     "output_type": "execute_result"
    }
   ],
   "source": [
    "grupo_carros = {'Toyota', 'Toyota', 'Ford'}\n",
    "grupo_carros"
   ]
  },
  {
   "cell_type": "markdown",
   "id": "039b8a39",
   "metadata": {},
   "source": [
    "### Gracias a esta propiedad podemos convertir una lista a conjunto para eliminar duplicados fácilmente"
   ]
  },
  {
   "cell_type": "code",
   "execution_count": 12,
   "id": "26ec9b93",
   "metadata": {},
   "outputs": [
    {
     "name": "stdout",
     "output_type": "stream",
     "text": [
      "[1, 1, 2, 2, 3, 3, 4, 5, 5, 4, 5, 6]\n"
     ]
    }
   ],
   "source": [
    "extra = [1, 1, 2, 2, 3, 3, 4, 5, 5, 4, 5, 6]\n",
    "print(extra)"
   ]
  },
  {
   "cell_type": "code",
   "execution_count": 13,
   "id": "5fe3f279",
   "metadata": {},
   "outputs": [
    {
     "name": "stdout",
     "output_type": "stream",
     "text": [
      "{1, 2, 3, 4, 5, 6}\n"
     ]
    }
   ],
   "source": [
    "c = set(extra)\n",
    "print(c)"
   ]
  },
  {
   "cell_type": "code",
   "execution_count": 14,
   "id": "8545ea72",
   "metadata": {},
   "outputs": [
    {
     "name": "stdout",
     "output_type": "stream",
     "text": [
      "[1, 2, 3, 4, 5, 6]\n"
     ]
    }
   ],
   "source": [
    "sin_duplicados = list(c)\n",
    "print(sin_duplicados)"
   ]
  },
  {
   "cell_type": "markdown",
   "id": "9b7bf5ec",
   "metadata": {},
   "source": [
    "### Podemos hacer la conversión en una sola línea"
   ]
  },
  {
   "cell_type": "code",
   "execution_count": 15,
   "id": "7ee8b97e",
   "metadata": {},
   "outputs": [
    {
     "name": "stdout",
     "output_type": "stream",
     "text": [
      "[1, 2, 3, 4, 5, 6]\n"
     ]
    }
   ],
   "source": [
    "no_dupli = list(set(extra))\n",
    "print(no_dupli)"
   ]
  },
  {
   "cell_type": "markdown",
   "id": "9a5585a4",
   "metadata": {},
   "source": [
    "### Cuando aplicamos la conversión a una cadena, el conjunto resultante incluye solo las letras únicas de ésta"
   ]
  },
  {
   "cell_type": "code",
   "execution_count": 18,
   "id": "7a2e5fdf",
   "metadata": {},
   "outputs": [
    {
     "data": {
      "text/plain": [
       "{' ',\n",
       " ',',\n",
       " '.',\n",
       " 'J',\n",
       " 'R',\n",
       " 'a',\n",
       " 'c',\n",
       " 'd',\n",
       " 'e',\n",
       " 'f',\n",
       " 'g',\n",
       " 'j',\n",
       " 'l',\n",
       " 'n',\n",
       " 'o',\n",
       " 'p',\n",
       " 'r',\n",
       " 't',\n",
       " 'ó'}"
      ]
     },
     "execution_count": 18,
     "metadata": {},
     "output_type": "execute_result"
    }
   ],
   "source": [
    "cadena = 'Jefe de jefe, patrón de patrón. Recógelo, recógelo'\n",
    "\n",
    "set(cadena)"
   ]
  },
  {
   "cell_type": "code",
   "execution_count": null,
   "id": "846a4952",
   "metadata": {},
   "outputs": [],
   "source": []
  }
 ],
 "metadata": {
  "kernelspec": {
   "display_name": "Python 3 (ipykernel)",
   "language": "python",
   "name": "python3"
  },
  "language_info": {
   "codemirror_mode": {
    "name": "ipython",
    "version": 3
   },
   "file_extension": ".py",
   "mimetype": "text/x-python",
   "name": "python",
   "nbconvert_exporter": "python",
   "pygments_lexer": "ipython3",
   "version": "3.9.12"
  }
 },
 "nbformat": 4,
 "nbformat_minor": 5
}
