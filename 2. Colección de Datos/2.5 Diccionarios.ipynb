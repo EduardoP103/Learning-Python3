{
 "cells": [
  {
   "cell_type": "markdown",
   "id": "add74ee5",
   "metadata": {},
   "source": [
    "<font color=Green>\n",
    "    \n",
    "# **3.5 Diccionarios**\n",
    "</font>\n",
    "\n",
    "###  Son colecciones de datos semejantes a las listas.\n",
    "\n",
    "### Los diccionarios se caracterizan por:\n",
    "+ Se define cada elemento dentro de un diccionario como una relación entre _Clave : Valor_ .\n",
    "+ Las claves ejercen como índice de cada elemento (No son únicamente números). "
   ]
  },
  {
   "cell_type": "code",
   "execution_count": 11,
   "id": "49a0b776",
   "metadata": {},
   "outputs": [],
   "source": [
    "colores = {'azul': 'blue', 'negro': 'black', 'rosado':'pink'}\n",
    "\n",
    "propiedades = {1: 'Nombre', 2: 'Apellido', 3: 'Profesión', 4: 'Región'}"
   ]
  },
  {
   "cell_type": "code",
   "execution_count": 12,
   "id": "32093945",
   "metadata": {},
   "outputs": [
    {
     "name": "stdout",
     "output_type": "stream",
     "text": [
      "{1: 'Nombre', 2: 'Apellido', 3: 'Profesión', 4: 'Región'}\n"
     ]
    }
   ],
   "source": [
    "print(propiedades)"
   ]
  },
  {
   "cell_type": "markdown",
   "id": "68106562",
   "metadata": {},
   "source": [
    "### Podemos escoger entre sus elementos utilizando las clases"
   ]
  },
  {
   "cell_type": "code",
   "execution_count": 13,
   "id": "ac2b9aa2",
   "metadata": {},
   "outputs": [
    {
     "data": {
      "text/plain": [
       "{'azul': 'blue', 'negro': 'black', 'rosado': 'pink'}"
      ]
     },
     "execution_count": 13,
     "metadata": {},
     "output_type": "execute_result"
    }
   ],
   "source": [
    "colores"
   ]
  },
  {
   "cell_type": "code",
   "execution_count": 14,
   "id": "458ee05c",
   "metadata": {},
   "outputs": [
    {
     "data": {
      "text/plain": [
       "'blue'"
      ]
     },
     "execution_count": 14,
     "metadata": {},
     "output_type": "execute_result"
    }
   ],
   "source": [
    "colores['azul']"
   ]
  },
  {
   "cell_type": "code",
   "execution_count": 15,
   "id": "f4b9148d",
   "metadata": {},
   "outputs": [
    {
     "data": {
      "text/plain": [
       "'black'"
      ]
     },
     "execution_count": 15,
     "metadata": {},
     "output_type": "execute_result"
    }
   ],
   "source": [
    "colores['negro']"
   ]
  },
  {
   "cell_type": "markdown",
   "id": "29fae7fb",
   "metadata": {},
   "source": [
    "### También podemos modificar los valores de sus elementos y realizar operaciones con ellos "
   ]
  },
  {
   "cell_type": "code",
   "execution_count": 16,
   "id": "a6366a92",
   "metadata": {},
   "outputs": [
    {
     "name": "stdout",
     "output_type": "stream",
     "text": [
      "{'azul': 'blue', 'negro': 'noir', 'rosado': 'pink'}\n"
     ]
    }
   ],
   "source": [
    "colores['negro'] = 'noir'\n",
    "\n",
    "print(colores)"
   ]
  },
  {
   "cell_type": "code",
   "execution_count": 17,
   "id": "c8c3bcce",
   "metadata": {},
   "outputs": [
    {
     "data": {
      "text/plain": [
       "{'azul': 'blue',\n",
       " 'negro': 'noir',\n",
       " 'rosado': 'pink',\n",
       " 'anaranjado': 'orange',\n",
       " 'blanco': 'white'}"
      ]
     },
     "execution_count": 17,
     "metadata": {},
     "output_type": "execute_result"
    }
   ],
   "source": [
    "colores['anaranjado'] = 'orange'\n",
    "colores['blanco'] = 'white'\n",
    "colores"
   ]
  },
  {
   "cell_type": "code",
   "execution_count": 24,
   "id": "d1664637",
   "metadata": {},
   "outputs": [
    {
     "data": {
      "text/plain": [
       "24"
      ]
     },
     "execution_count": 24,
     "metadata": {},
     "output_type": "execute_result"
    }
   ],
   "source": [
    "edades = { 'Eduardo': 24,\n",
    "            'Paolo' : 24,\n",
    "              'Diana' : 26,\n",
    "              'Victor': 27\n",
    "         }\n",
    "edades['Eduardo']"
   ]
  },
  {
   "cell_type": "code",
   "execution_count": 25,
   "id": "4ef84aa8",
   "metadata": {},
   "outputs": [
    {
     "data": {
      "text/plain": [
       "{'Eduardo': 25, 'Paolo': 24, 'Diana': 26, 'Victor': 27}"
      ]
     },
     "execution_count": 25,
     "metadata": {},
     "output_type": "execute_result"
    }
   ],
   "source": [
    "edades['Eduardo'] += 1\n",
    "edades"
   ]
  },
  {
   "cell_type": "code",
   "execution_count": 26,
   "id": "76138228",
   "metadata": {},
   "outputs": [
    {
     "data": {
      "text/plain": [
       "52"
      ]
     },
     "execution_count": 26,
     "metadata": {},
     "output_type": "execute_result"
    }
   ],
   "source": [
    "edades['Eduardo'] + edades['Victor']"
   ]
  },
  {
   "cell_type": "code",
   "execution_count": 27,
   "id": "8e7e4d01",
   "metadata": {},
   "outputs": [
    {
     "data": {
      "text/plain": [
       "{'Eduardo': 25, 'Paolo': 24, 'Diana': 26, 'Victor': 27, 'Leidi': 51}"
      ]
     },
     "execution_count": 27,
     "metadata": {},
     "output_type": "execute_result"
    }
   ],
   "source": [
    "edades['Leidi'] = edades['Diana'] + edades['Eduardo']\n",
    "edades"
   ]
  },
  {
   "cell_type": "markdown",
   "id": "6e516c5d",
   "metadata": {},
   "source": [
    "<font color=#003d5c> \n",
    "    \n",
    "## *Métodos*\n",
    "\n",
    "</font>\n",
    "\n",
    "###  A través de un bucle _For_ podemos recorrer los elementos de un diccionario"
   ]
  },
  {
   "cell_type": "code",
   "execution_count": 28,
   "id": "cef6bda8",
   "metadata": {},
   "outputs": [
    {
     "name": "stdout",
     "output_type": "stream",
     "text": [
      "Eduardo\n",
      "Paolo\n",
      "Diana\n",
      "Victor\n",
      "Leidi\n"
     ]
    }
   ],
   "source": [
    "for c in edades: # Clave\n",
    "    print(c)\n"
   ]
  },
  {
   "cell_type": "code",
   "execution_count": 29,
   "id": "21f8ab37",
   "metadata": {},
   "outputs": [
    {
     "name": "stdout",
     "output_type": "stream",
     "text": [
      "25\n",
      "24\n",
      "26\n",
      "27\n",
      "51\n"
     ]
    }
   ],
   "source": [
    "for c in edades:\n",
    "    print(edades[c])"
   ]
  },
  {
   "cell_type": "markdown",
   "id": "7f19fc5f",
   "metadata": {},
   "source": [
    "### El método _items()_ nos devuelve Clave y Valor automáticamente"
   ]
  },
  {
   "cell_type": "code",
   "execution_count": 31,
   "id": "570310e6",
   "metadata": {},
   "outputs": [
    {
     "name": "stdout",
     "output_type": "stream",
     "text": [
      "Eduardo 25\n",
      "Paolo 24\n",
      "Diana 26\n",
      "Victor 27\n",
      "Leidi 51\n"
     ]
    }
   ],
   "source": [
    "for c, v in edades.items(): # Variable\n",
    "    print(c, v)"
   ]
  },
  {
   "cell_type": "markdown",
   "id": "6ea2bd59",
   "metadata": {},
   "source": [
    "### El método _del()_ nos permite eliminar los valores de un diccionario."
   ]
  },
  {
   "cell_type": "code",
   "execution_count": 32,
   "id": "11be5819",
   "metadata": {},
   "outputs": [
    {
     "name": "stdout",
     "output_type": "stream",
     "text": [
      "{'negro': 'noir', 'rosado': 'pink', 'anaranjado': 'orange', 'blanco': 'white'}\n"
     ]
    }
   ],
   "source": [
    "del(colores['azul'])\n",
    "\n",
    "print(colores)"
   ]
  },
  {
   "cell_type": "markdown",
   "id": "586f5aca",
   "metadata": {},
   "source": [
    "### Debemos combinar provechosamente las listas y los diccionarios. Por ejemplo para crear un equipo de personajes"
   ]
  },
  {
   "cell_type": "code",
   "execution_count": 34,
   "id": "8c32a224",
   "metadata": {},
   "outputs": [],
   "source": [
    "equipo = []\n",
    "\n",
    "personajes = {'Nombre' :'Eduardo',\n",
    "        'Clase' : 'DragonKnight',\n",
    "        'Nación' : 'Narnia'}"
   ]
  },
  {
   "cell_type": "code",
   "execution_count": 35,
   "id": "60c9c8e9",
   "metadata": {},
   "outputs": [
    {
     "name": "stdout",
     "output_type": "stream",
     "text": [
      "[{'Nombre': 'Eduardo', 'Clase': 'DragonKnight', 'Nación': 'Narnia'}]\n"
     ]
    }
   ],
   "source": [
    "equipo.append(personajes)\n",
    "\n",
    "print(equipo)"
   ]
  },
  {
   "cell_type": "code",
   "execution_count": 36,
   "id": "783deb27",
   "metadata": {},
   "outputs": [],
   "source": [
    "personajes = {'Nombre':'Leidi',\n",
    "             'Clase':'Curandera',\n",
    "             'Nación':'Francia'\n",
    "             }\n",
    "equipo.append(personajes)"
   ]
  },
  {
   "cell_type": "code",
   "execution_count": 37,
   "id": "cffff070",
   "metadata": {},
   "outputs": [
    {
     "data": {
      "text/plain": [
       "[{'Nombre': 'Eduardo', 'Clase': 'DragonKnight', 'Nación': 'Narnia'},\n",
       " {'Nombre': 'Leidi', 'Clase': 'Curandera', 'Nación': 'Francia'},\n",
       " {'Nombre': 'Rebecca', 'Clase': 'Banquera', 'Nación': 'Inglaterra'}]"
      ]
     },
     "execution_count": 37,
     "metadata": {},
     "output_type": "execute_result"
    }
   ],
   "source": [
    "personajes = {'Nombre':'Rebecca',\n",
    "             'Clase':'Banquera',\n",
    "             'Nación':'Inglaterra'\n",
    "             }\n",
    "equipo.append(personajes)\n",
    "equipo"
   ]
  },
  {
   "cell_type": "code",
   "execution_count": 40,
   "id": "2e8fa9ff",
   "metadata": {},
   "outputs": [
    {
     "name": "stdout",
     "output_type": "stream",
     "text": [
      "Eduardo , DragonKnight  proveniente de  Narnia\n",
      "Leidi , Curandera  proveniente de  Francia\n",
      "Rebecca , Banquera  proveniente de  Inglaterra\n"
     ]
    }
   ],
   "source": [
    "for e in equipo:\n",
    "    print(e[\"Nombre\"],\",\", e[\"Clase\"], \" proveniente de \", e[\"Nación\"]);"
   ]
  },
  {
   "cell_type": "code",
   "execution_count": null,
   "id": "2334ad70",
   "metadata": {},
   "outputs": [],
   "source": []
  }
 ],
 "metadata": {
  "kernelspec": {
   "display_name": "Python 3 (ipykernel)",
   "language": "python",
   "name": "python3"
  },
  "language_info": {
   "codemirror_mode": {
    "name": "ipython",
    "version": 3
   },
   "file_extension": ".py",
   "mimetype": "text/x-python",
   "name": "python",
   "nbconvert_exporter": "python",
   "pygments_lexer": "ipython3",
   "version": "3.9.12"
  }
 },
 "nbformat": 4,
 "nbformat_minor": 5
}
