{
 "cells": [
  {
   "cell_type": "markdown",
   "id": "42ac7659",
   "metadata": {},
   "source": [
    "<font color=Green>\n",
    "    \n",
    "# **3.6 Ejercicios**\n",
    "</font>\n",
    "\n",
    "### 1) ¿Puedes identificar el error en el siguiente código?\n",
    "> media = num_1 + num_2 + num_3 / 3\n",
    "\n",
    "### Se pretende hacer una media muestral de 3 elementos pero no funciona correctamente"
   ]
  },
  {
   "cell_type": "code",
   "execution_count": 1,
   "id": "019cdefd",
   "metadata": {},
   "outputs": [
    {
     "name": "stdout",
     "output_type": "stream",
     "text": [
      "El promedio es  8.0\n"
     ]
    }
   ],
   "source": [
    "num_1 = 4\n",
    "num_2 = 3\n",
    "num_3 = 3\n",
    "\n",
    "media = num_1 + num_2 + num_3 / 3;\n",
    "\n",
    "print('El promedio es ', media); # Erroneo"
   ]
  },
  {
   "cell_type": "code",
   "execution_count": 2,
   "id": "d981f120",
   "metadata": {},
   "outputs": [
    {
     "name": "stdout",
     "output_type": "stream",
     "text": [
      "El promedio es  3.3333333333333335\n"
     ]
    }
   ],
   "source": [
    "num_1 = 4\n",
    "num_2 = 3\n",
    "num_3 = 3\n",
    "\n",
    "media = (num_1 + num_2 + num_3) / 3;\n",
    "\n",
    "print('El promedio es ', media); # Resuelto"
   ]
  },
  {
   "cell_type": "markdown",
   "id": "a2e066a5",
   "metadata": {},
   "source": [
    "###  2) En la siguiente matriz, el cuarto elemento siempre es la suma de los tres anteriores. Utilizando la indexación corrige las listas que no cumplan esta condición."
   ]
  },
  {
   "cell_type": "code",
   "execution_count": 4,
   "id": "3226430f",
   "metadata": {},
   "outputs": [],
   "source": [
    "matriz= [\n",
    "    [1,1,1,3],\n",
    "    [2,2,2,7],\n",
    "    [3,3,3,9], \n",
    "    [4,4,4,13]\n",
    "];\n",
    "\n",
    "matriz;"
   ]
  },
  {
   "cell_type": "code",
   "execution_count": 5,
   "id": "d10e8236",
   "metadata": {},
   "outputs": [],
   "source": [
    "#    Modificamos la primera fila\n",
    "\n",
    "matriz[1][-1] = sum( matriz[1][:-1])"
   ]
  },
  {
   "cell_type": "code",
   "execution_count": 6,
   "id": "a5fee670",
   "metadata": {},
   "outputs": [],
   "source": [
    "#    Modificamos la última fila\n",
    "\n",
    "matriz[-1][-1] = sum( matriz[-1][:-1] )"
   ]
  },
  {
   "cell_type": "code",
   "execution_count": 7,
   "id": "2e4f9d18",
   "metadata": {},
   "outputs": [
    {
     "name": "stdout",
     "output_type": "stream",
     "text": [
      "[[1, 1, 1, 3], [2, 2, 2, 6], [3, 3, 3, 9], [4, 4, 4, 12]]\n"
     ]
    }
   ],
   "source": [
    "print(matriz)"
   ]
  },
  {
   "cell_type": "markdown",
   "id": "0cdd2617",
   "metadata": {},
   "source": [
    "### 3) En el desarrollo de un videojuego se te encarga configurar y balancear cada clase de personaje. Partiendo de que la estadística base es 2, debes cumplir las siguientes condiciones:\n",
    "+ El caballero tiene el doble de vida y defensa que un guerrero.\n",
    "+ El guerrero tiene el doble de ataque y alcance que un caballero.\n",
    "+ El arquero tiene la misma vida y ataque que un guerrero, pero la mitad de su defensa y el doble de su alcance.\n",
    "+ Muestra como quedan las propiedades de los tres personajes.\n",
    "\n",
    ">caballero = { 'vida':2, 'ataque':2, 'defensa': 2, 'alcance':2 }\\\n",
    ">guerrero  = { 'vida':2, 'ataque':2, 'defensa': 2, 'alcance':2 }\\\n",
    ">arquero   = { 'vida':2, 'ataque':2, 'defensa': 2, 'alcance':2 }\n"
   ]
  },
  {
   "cell_type": "code",
   "execution_count": 9,
   "id": "bf032c82",
   "metadata": {},
   "outputs": [],
   "source": [
    "caballero = { 'vida':2, 'ataque':2, 'defensa': 2, 'alcance':2 }\n",
    "guerrero  = { 'vida':2, 'ataque':2, 'defensa': 2, 'alcance':2 }\n",
    "arquero   = { 'vida':2, 'ataque':2, 'defensa': 2, 'alcance':2 }\n"
   ]
  },
  {
   "cell_type": "code",
   "execution_count": 11,
   "id": "2945cf4f",
   "metadata": {},
   "outputs": [],
   "source": [
    "guerrero['ataque'] = caballero['ataque']*2\n",
    "guerrero['alcance'] = caballero['alcance']*2"
   ]
  },
  {
   "cell_type": "code",
   "execution_count": 13,
   "id": "44a1ed15",
   "metadata": {},
   "outputs": [],
   "source": [
    "caballero['vida'] = guerrero['vida']*2\n",
    "caballero['defensa'] = guerrero['defensa']*2"
   ]
  },
  {
   "cell_type": "code",
   "execution_count": 14,
   "id": "631b5665",
   "metadata": {},
   "outputs": [],
   "source": [
    "arquero['ataque'] = guerrero['ataque']\n",
    "arquero['defensa'] = guerrero['defensa']/2\n",
    "arquero['alcance'] = guerrero['alcance']*2"
   ]
  },
  {
   "cell_type": "code",
   "execution_count": 16,
   "id": "d22e7d95",
   "metadata": {},
   "outputs": [
    {
     "data": {
      "text/plain": [
       "({'vida': 4, 'ataque': 2, 'defensa': 4, 'alcance': 2},\n",
       " {'vida': 2, 'ataque': 4, 'defensa': 2, 'alcance': 4},\n",
       " {'vida': 2, 'ataque': 4, 'defensa': 1.0, 'alcance': 8})"
      ]
     },
     "execution_count": 16,
     "metadata": {},
     "output_type": "execute_result"
    }
   ],
   "source": [
    "caballero, guerrero, arquero  # Tupla"
   ]
  },
  {
   "cell_type": "code",
   "execution_count": null,
   "id": "d15488a2",
   "metadata": {},
   "outputs": [],
   "source": []
  },
  {
   "cell_type": "code",
   "execution_count": null,
   "id": "afa75d4b",
   "metadata": {},
   "outputs": [],
   "source": []
  }
 ],
 "metadata": {
  "kernelspec": {
   "display_name": "Python 3 (ipykernel)",
   "language": "python",
   "name": "python3"
  },
  "language_info": {
   "codemirror_mode": {
    "name": "ipython",
    "version": 3
   },
   "file_extension": ".py",
   "mimetype": "text/x-python",
   "name": "python",
   "nbconvert_exporter": "python",
   "pygments_lexer": "ipython3",
   "version": "3.9.12"
  }
 },
 "nbformat": 4,
 "nbformat_minor": 5
}
