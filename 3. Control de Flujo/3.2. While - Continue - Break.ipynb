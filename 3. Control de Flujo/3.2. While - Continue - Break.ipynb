{
 "cells": [
  {
   "cell_type": "markdown",
   "id": "4f2e3c93",
   "metadata": {},
   "source": [
    " <font color=Green>\n",
    "    \n",
    "# **4.2 Bucle _While_**\n",
    "\n",
    "</font>\n",
    "\n",
    "### Un bucle es una secuencia que ejecuta reiteradas veces una acción hasta que la condición asignada al bucle deja de cumplirse. Cada nueva ejecución de la secuencia se denomina iteración.\n",
    "\n",
    "### La sentencia While (Mientras) repite las operaciones dentro de un bloque _mientras_ la condición lógica que evalúa es _True_ (Verdadera).\n",
    "\n",
    "### El programador debe planificar un momento en que la condición es False y el bucle se detiene. De otra forma se vuelve un bucle infinito."
   ]
  },
  {
   "cell_type": "code",
   "execution_count": 3,
   "id": "302dc412",
   "metadata": {},
   "outputs": [
    {
     "name": "stdout",
     "output_type": "stream",
     "text": [
      "Contador vale  1\n",
      "Contador vale  2\n",
      "Contador vale  3\n",
      "Contador vale  4\n",
      "Contador vale  5\n",
      "Contador vale  6\n"
     ]
    }
   ],
   "source": [
    "contador = 0\n",
    "\n",
    "while contador <= 5:\n",
    "    contador += 1\n",
    "    print(\"Contador vale \", contador)"
   ]
  },
  {
   "cell_type": "code",
   "execution_count": 5,
   "id": "41300d78",
   "metadata": {},
   "outputs": [
    {
     "name": "stdout",
     "output_type": "stream",
     "text": [
      "Contador vale 0\n",
      "Contador vale 1\n",
      "Contador vale 2\n",
      "Contador vale 3\n",
      "Contador vale 4\n",
      "Contador vale 5\n",
      "Se realizaron 6 interacciones\n"
     ]
    }
   ],
   "source": [
    "c = 0 \n",
    "while c <= 5:\n",
    "    print('Contador vale', c)\n",
    "    c += 1\n",
    "else: \n",
    "    print(\"Se realizaron {} interacciones\".format(c))"
   ]
  },
  {
   "cell_type": "markdown",
   "id": "c864481d",
   "metadata": {},
   "source": [
    "<font color=#003d5c>\n",
    "    \n",
    "## _BREAK_\n",
    "</font>\n",
    "\n",
    "### Con este comando detenemos el bucle en cualquier momento."
   ]
  },
  {
   "cell_type": "code",
   "execution_count": 6,
   "id": "9336bc9a",
   "metadata": {},
   "outputs": [
    {
     "name": "stdout",
     "output_type": "stream",
     "text": [
      "Contador vale  1\n",
      "Contador vale  2\n",
      "Contador vale  3\n",
      "Rompemos el bucle cuando contador vale  4\n"
     ]
    }
   ],
   "source": [
    "contador_1 = 0\n",
    "\n",
    "while contador_1 <= 5:\n",
    "    contador_1 += 1\n",
    "    if contador_1 == 4:\n",
    "        print(\"Rompemos el bucle cuando contador vale \", contador_1)\n",
    "        break\n",
    "    print(\"Contador vale \", contador_1)\n",
    "else: \n",
    "    print(\"Se realizaron {} iteraciones\".format(contador_1))"
   ]
  },
  {
   "cell_type": "markdown",
   "id": "9e1beb16",
   "metadata": {},
   "source": [
    "<font color=#003d5c>\n",
    "    \n",
    "## _CONTINUE_\n",
    "</font>\n",
    "\n",
    "### Con este comando saltamos a la siguiente iteración sin romper el bucle"
   ]
  },
  {
   "cell_type": "code",
   "execution_count": 7,
   "id": "2f908dde",
   "metadata": {},
   "outputs": [
    {
     "name": "stdout",
     "output_type": "stream",
     "text": [
      "C vale 1\n",
      "C vale 2\n",
      "C vale 3\n",
      "Ya que c vale 4 Saltamos esta interacción \n",
      " y continuamos con la siguiente\n",
      "C vale 5\n",
      "C vale 6\n",
      "Se realizaron 6 interacciones\n"
     ]
    }
   ],
   "source": [
    "c = 0\n",
    "\n",
    "while c <= 5:\n",
    "    c += 1\n",
    "    if c ==4: \n",
    "        print('Ya que c vale {} Saltamos esta interacción \\n y continuamos con la siguiente'.format(c))\n",
    "        continue\n",
    "    print('C vale', c)\n",
    "else: \n",
    "    print('Se realizaron {} interacciones'.format(c))"
   ]
  },
  {
   "cell_type": "code",
   "execution_count": 1,
   "id": "88cd4f68",
   "metadata": {},
   "outputs": [
    {
     "name": "stdout",
     "output_type": "stream",
     "text": [
      "Bienvenido!\n",
      "\n",
      "¿Qué quieres hacer? Ingresa una opción\n",
      "    (1) Saludar\n",
      "    (2) Sumar dos números\n",
      "    (3) Salir1\n",
      "\n",
      " Eduardo le manda muchos saludos! \n",
      "\n",
      "\n",
      "¿Qué quieres hacer? Ingresa una opción\n",
      "    (1) Saludar\n",
      "    (2) Sumar dos números\n",
      "    (3) Salir2\n",
      "Ingresa el primer número: \n",
      "190\n",
      "Ingresa el segundo número: \n",
      "213\n",
      "\n",
      " El resultado de la suma es 403.0\n",
      "\n",
      "¿Qué quieres hacer? Ingresa una opción\n",
      "    (1) Saludar\n",
      "    (2) Sumar dos números\n",
      "    (3) Salirde\n",
      "\n",
      " No hay manera, de que entienda. Intenta de nuevo \n",
      "\n",
      "¿Qué quieres hacer? Ingresa una opción\n",
      "    (1) Saludar\n",
      "    (2) Sumar dos números\n",
      "    (3) Salir3\n",
      "\n",
      " Hasta luego, vuelva pronto\n"
     ]
    }
   ],
   "source": [
    "# Menú de usuario \n",
    "print(\"Bienvenido!\")\n",
    "      \n",
    "while (True):\n",
    "    opcion = input(\"\"\"\\n¿Qué quieres hacer? Ingresa una opción\n",
    "    (1) Saludar\n",
    "    (2) Sumar dos números\n",
    "    (3) Salir\"\"\")\n",
    "    if opcion == '1' :\n",
    "          print (\"\\n Eduardo le manda muchos saludos! \\n\")\n",
    "    elif opcion == '2' :\n",
    "          n_1 = float(input(\"Ingresa el primer número: \\n\"))\n",
    "          n_2 = float(input(\"Ingresa el segundo número: \\n\"))\n",
    "          print(\"\\n El resultado de la suma es {}\".format(n_1+n_2))\n",
    "    elif opcion == '3' :\n",
    "        print(\"\\n Hasta luego, vuelva pronto\")\n",
    "        break\n",
    "    else:\n",
    "        print (\"\\n No hay manera, de que entienda. Intenta de nuevo \")"
   ]
  },
  {
   "cell_type": "code",
   "execution_count": null,
   "id": "e7479b27",
   "metadata": {},
   "outputs": [],
   "source": []
  }
 ],
 "metadata": {
  "kernelspec": {
   "display_name": "Python 3 (ipykernel)",
   "language": "python",
   "name": "python3"
  },
  "language_info": {
   "codemirror_mode": {
    "name": "ipython",
    "version": 3
   },
   "file_extension": ".py",
   "mimetype": "text/x-python",
   "name": "python",
   "nbconvert_exporter": "python",
   "pygments_lexer": "ipython3",
   "version": "3.9.12"
  }
 },
 "nbformat": 4,
 "nbformat_minor": 5
}
